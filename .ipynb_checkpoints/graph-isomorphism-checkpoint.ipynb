{
 "cells": [
  {
   "cell_type": "markdown",
   "id": "6b2fd371",
   "metadata": {},
   "source": [
    "# Graph Isomorphism Problem"
   ]
  },
  {
   "cell_type": "markdown",
   "id": "5753323e",
   "metadata": {},
   "source": [
    "## What is the Graph Isomorphism Problem ?"
   ]
  },
  {
   "cell_type": "markdown",
   "id": "cc76495f",
   "metadata": {},
   "source": [
    "#### The graph isomorphism problem involves determining if two finite graphs are isomorphic. The problem isn't known to be solved in polynomial time or to be NP-complete, hence it could fall into the NP-intermediate computational complexity category. The graph isomorphism problem is known to be in the low hierarchy of class NP, which means it isn't NP-complete until the polynomial time hierarchy collapses to the second level.[1]\n",
    "\n",
    "#### This problem is a subset of the subgraph isomorphism problem, which asks whether a given graph G includes a subgraph that is isomorphic to another graph H and is known to be NP-complete. It's also known to be a specific example of the symmetric group's non-abelian hidden subgroup problem.[1]"
   ]
  },
  {
   "cell_type": "markdown",
   "id": "d44fb0db",
   "metadata": {},
   "source": [
    "# How Can graphs be represented in data structures ?\n"
   ]
  },
  {
   "cell_type": "markdown",
   "id": "cea3d78b",
   "metadata": {},
   "source": [
    "#### The adjacency matrix, adjacency list, and adjacency set are three data structures that can be used to represent a graph. A table with rows and columns can be compared to an adjacency matrix. The nodes of a graph are represented by the row and column labels. A square matrix with the same number of rows, columns, and nodes is called an adjacency matrix. Each matrix cell represents an edge or the link between two nodes.[2]\n",
    "\n",
    "#### Every graph consists of a set of points known as vertices or nodes that are connected by lines known as edges. In a network, the vertices represent entities. Edges, on the other hand, represent inter-entity relationships. As a result, while nodes represent entities in a network graph, edges represent relationships. "
   ]
  },
  {
   "cell_type": "markdown",
   "id": "08e0cc0b",
   "metadata": {},
   "source": [
    "# Determine if two graphs are isomorphic"
   ]
  },
  {
   "cell_type": "markdown",
   "id": "d4d5b0e6",
   "metadata": {},
   "source": [
    "### Python Implementation"
   ]
  },
  {
   "cell_type": "code",
   "execution_count": 8,
   "id": "1214c2e8",
   "metadata": {},
   "outputs": [
    {
     "data": {
      "image/png": "[encoded data removed]",
      "text/plain": [
       "<Figure size 432x288 with 1 Axes>"
      ]
     },
     "metadata": {},
     "output_type": "display_data"
    }
   ],
   "source": [
    "# A few imports to get us started\n",
    "# Matrices.\n",
    "import numpy as np\n",
    "# Permutations\n",
    "import itertools as it\n",
    "# Graphs.\n",
    "import networkx as nx\n",
    "\n",
    "Graph1 = nx.Graph()\n",
    "Edges1 = [('a', 'b'), ('b', 'c'), ('c', 'd'),('d','b')]\n",
    "Graph1.add_edges_from(Edges1)\n",
    "\n",
    "Graph2 = nx.Graph()\n",
    "Edges2 = [('a', 'b'), ('b', 'c'), ('c', 'd'),('d','b')]\n",
    "Graph2.add_edges_from(Edges2)\n",
    "\n",
    "nx.draw(Graph1, with_labels=False, node_color='Blue')\n",
    "nx.draw(Graph2, with_labels=False, node_color='Pink')"
   ]
  },
  {
   "cell_type": "code",
   "execution_count": 9,
   "id": "8d4aaeda",
   "metadata": {},
   "outputs": [],
   "source": [
    "M1 = nx.to_numpy_array(Graph1).astype(np.uint8)\n",
    "\n",
    "M2 = nx.to_numpy_array(Graph2).astype(np.uint8)"
   ]
  },
  {
   "cell_type": "code",
   "execution_count": 15,
   "id": "758d295c",
   "metadata": {},
   "outputs": [
    {
     "data": {
      "text/plain": [
       "array([[0, 1, 0, 0],\n",
       "       [1, 0, 1, 1],\n",
       "       [0, 1, 0, 1],\n",
       "       [0, 1, 1, 0]], dtype=uint8)"
      ]
     },
     "execution_count": 15,
     "metadata": {},
     "output_type": "execute_result"
    }
   ],
   "source": [
    "M1"
   ]
  },
  {
   "cell_type": "code",
   "execution_count": 16,
   "id": "a210c9bb",
   "metadata": {},
   "outputs": [
    {
     "data": {
      "text/plain": [
       "array([[0, 1, 0, 0],\n",
       "       [1, 0, 1, 1],\n",
       "       [0, 1, 0, 1],\n",
       "       [0, 1, 1, 0]], dtype=uint8)"
      ]
     },
     "execution_count": 16,
     "metadata": {},
     "output_type": "execute_result"
    }
   ],
   "source": [
    "M2"
   ]
  },
  {
   "cell_type": "code",
   "execution_count": 17,
   "id": "2f3e9666",
   "metadata": {},
   "outputs": [
    {
     "ename": "IndentationError",
     "evalue": "unexpected indent (Temp/ipykernel_8616/1828064150.py, line 2)",
     "output_type": "error",
     "traceback": [
      "\u001b[1;36m  File \u001b[1;32m\"C:\\Users\\Chris\\AppData\\Local\\Temp/ipykernel_8616/1828064150.py\"\u001b[1;36m, line \u001b[1;32m2\u001b[0m\n\u001b[1;33m    for r in M1:\u001b[0m\n\u001b[1;37m    ^\u001b[0m\n\u001b[1;31mIndentationError\u001b[0m\u001b[1;31m:\u001b[0m unexpected indent\n"
     ]
    }
   ],
   "source": [
    "def matricesprint(M1):1\n",
    "    for r in M1:\n",
    "        print(str(r)[1:-1])\n",
    "    print()\n",
    "    \n",
    "    \n",
    "perms = it.permutations(range(len(M1)))\n",
    "print(list(perms))"
   ]
  },
  {
   "cell_type": "code",
   "execution_count": 13,
   "id": "6941691a",
   "metadata": {},
   "outputs": [
    {
     "ename": "IndentationError",
     "evalue": "unexpected indent (Temp/ipykernel_8616/3113883056.py, line 2)",
     "output_type": "error",
     "traceback": [
      "\u001b[1;36m  File \u001b[1;32m\"C:\\Users\\Chris\\AppData\\Local\\Temp/ipykernel_8616/3113883056.py\"\u001b[1;36m, line \u001b[1;32m2\u001b[0m\n\u001b[1;33m    for r in M2:\u001b[0m\n\u001b[1;37m    ^\u001b[0m\n\u001b[1;31mIndentationError\u001b[0m\u001b[1;31m:\u001b[0m unexpected indent\n"
     ]
    }
   ],
   "source": [
    "def matricesprint(M2):1\n",
    "    for r in M2:\n",
    "        print(str(r)[1:-1])\n",
    "    print()\n",
    "    \n",
    "    \n",
    "perms = it.permutations(range(len(M2)))\n",
    "print(list(perms))"
   ]
  },
  {
   "cell_type": "code",
   "execution_count": 39,
   "id": "506b7c2c",
   "metadata": {},
   "outputs": [
    {
     "name": "stdout",
     "output_type": "stream",
     "text": [
      "1 0 0 0\n",
      "0 1 0 0\n",
      "0 0 1 0\n",
      "0 0 0 1\n",
      "\n",
      "1 0 0 0\n",
      "0 1 0 0\n",
      "0 0 0 1\n",
      "0 0 1 0\n",
      "\n",
      "1 0 0 0\n",
      "0 0 1 0\n",
      "0 1 0 0\n",
      "0 0 0 1\n",
      "\n",
      "1 0 0 0\n",
      "0 0 1 0\n",
      "0 0 0 1\n",
      "0 1 0 0\n",
      "\n",
      "1 0 0 0\n",
      "0 0 0 1\n",
      "0 1 0 0\n",
      "0 0 1 0\n",
      "\n",
      "1 0 0 0\n",
      "0 0 0 1\n",
      "0 0 1 0\n",
      "0 1 0 0\n",
      "\n",
      "0 1 0 0\n",
      "1 0 0 0\n",
      "0 0 1 0\n",
      "0 0 0 1\n",
      "\n",
      "0 1 0 0\n",
      "1 0 0 0\n",
      "0 0 0 1\n",
      "0 0 1 0\n",
      "\n",
      "0 1 0 0\n",
      "0 0 1 0\n",
      "1 0 0 0\n",
      "0 0 0 1\n",
      "\n",
      "0 1 0 0\n",
      "0 0 1 0\n",
      "0 0 0 1\n",
      "1 0 0 0\n",
      "\n",
      "0 1 0 0\n",
      "0 0 0 1\n",
      "1 0 0 0\n",
      "0 0 1 0\n",
      "\n",
      "0 1 0 0\n",
      "0 0 0 1\n",
      "0 0 1 0\n",
      "1 0 0 0\n",
      "\n",
      "0 0 1 0\n",
      "1 0 0 0\n",
      "0 1 0 0\n",
      "0 0 0 1\n",
      "\n",
      "0 0 1 0\n",
      "1 0 0 0\n",
      "0 0 0 1\n",
      "0 1 0 0\n",
      "\n",
      "0 0 1 0\n",
      "0 1 0 0\n",
      "1 0 0 0\n",
      "0 0 0 1\n",
      "\n",
      "0 0 1 0\n",
      "0 1 0 0\n",
      "0 0 0 1\n",
      "1 0 0 0\n",
      "\n",
      "0 0 1 0\n",
      "0 0 0 1\n",
      "1 0 0 0\n",
      "0 1 0 0\n",
      "\n",
      "0 0 1 0\n",
      "0 0 0 1\n",
      "0 1 0 0\n",
      "1 0 0 0\n",
      "\n",
      "0 0 0 1\n",
      "1 0 0 0\n",
      "0 1 0 0\n",
      "0 0 1 0\n",
      "\n",
      "0 0 0 1\n",
      "1 0 0 0\n",
      "0 0 1 0\n",
      "0 1 0 0\n",
      "\n",
      "0 0 0 1\n",
      "0 1 0 0\n",
      "1 0 0 0\n",
      "0 0 1 0\n",
      "\n",
      "0 0 0 1\n",
      "0 1 0 0\n",
      "0 0 1 0\n",
      "1 0 0 0\n",
      "\n",
      "0 0 0 1\n",
      "0 0 1 0\n",
      "1 0 0 0\n",
      "0 1 0 0\n",
      "\n",
      "0 0 0 1\n",
      "0 0 1 0\n",
      "0 1 0 0\n",
      "1 0 0 0\n",
      "\n"
     ]
    }
   ],
   "source": [
    "perms = it.permutations(range(len(M1)))\n",
    "I = np.identity(len(M1)).astype(np.uint8)\n",
    "for p in perms:\n",
    "    matricesprint(I[list(p)])\n"
   ]
  },
  {
   "cell_type": "code",
   "execution_count": null,
   "id": "dcca5688",
   "metadata": {},
   "outputs": [],
   "source": []
  },
  {
   "cell_type": "markdown",
   "id": "60db68f8",
   "metadata": {},
   "source": [
    "# Bibliography"
   ]
  },
  {
   "cell_type": "markdown",
   "id": "24c3f398",
   "metadata": {},
   "source": [
    "#### [1] What is the Graph Isomorphism Problem\n",
    "#### https://en.wikipedia.org/wiki/Graph_isomorphism_problem\n",
    "\n",
    "#### [2] How Can graphs be represented in data structures \n",
    "#### https://quillbot.com/?utm_source=Google&utm_medium=Search&utm_campaign=Paraphrase_Premium&gclid=CjwKCAjw682TBhATEiwA9crl39q5SLPxaAEcj3INeCm3qZjBe1GalVmvlmtedVIB-s7deJknbjtyYRoCCPkQAvD_BwE"
   ]
  },
  {
   "cell_type": "code",
   "execution_count": null,
   "id": "2f299eed",
   "metadata": {},
   "outputs": [],
   "source": []
  }
 ],
 "metadata": {
  "kernelspec": {
   "display_name": "Python 3 (ipykernel)",
   "language": "python",
   "name": "python3"
  },
  "language_info": {
   "codemirror_mode": {
    "name": "ipython",
    "version": 3
   },
   "file_extension": ".py",
   "mimetype": "text/x-python",
   "name": "python",
   "nbconvert_exporter": "python",
   "pygments_lexer": "ipython3",
   "version": "3.9.7"
  }
 },
 "nbformat": 4,
 "nbformat_minor": 5
}
