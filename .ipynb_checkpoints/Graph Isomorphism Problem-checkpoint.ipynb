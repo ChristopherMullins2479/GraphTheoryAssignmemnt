{
 "cells": [
  {
   "cell_type": "markdown",
   "id": "6b2fd371",
   "metadata": {},
   "source": [
    "# Graph Isomorphism Problem"
   ]
  },
  {
   "cell_type": "markdown",
   "id": "5753323e",
   "metadata": {},
   "source": [
    "## What is the Graph Isomorphism Problem ?"
   ]
  },
  {
   "cell_type": "markdown",
   "id": "5d777a66",
   "metadata": {},
   "source": [
    "#### The graph isomorphism problem involves determining if two finite graphs are isomorphic. The problem isn't known to be solved in polynomial time or to be NP-complete, hence it could fall into the NP-intermediate computational complexity category. The graph isomorphism problem is known to be in the low hierarchy of class NP, which means it isn't NP-complete until the polynomial time hierarchy collapses to the second level.[1]"
   ]
  },
  {
   "cell_type": "markdown",
   "id": "cc76495f",
   "metadata": {},
   "source": [
    "#### This problem is a subset of the subgraph isomorphism problem, which asks whether a given graph G includes a subgraph that is isomorphic to another graph H and is known to be NP-complete. It's also known to be a specific example of the symmetric group's non-abelian hidden subgroup problem.[1]"
   ]
  },
  {
   "cell_type": "markdown",
   "id": "d44fb0db",
   "metadata": {},
   "source": [
    "# How Can graphs be represented in data structures ?\n"
   ]
  },
  {
   "cell_type": "markdown",
   "id": "60db68f8",
   "metadata": {},
   "source": [
    "# Bibliography"
   ]
  },
  {
   "cell_type": "markdown",
   "id": "83edcc99",
   "metadata": {},
   "source": [
    "#### [1] What is the Graph Isomorphism Problem\n",
    "#### https://en.wikipedia.org/wiki/Graph_isomorphism_problem"
   ]
  },
  {
   "cell_type": "code",
   "execution_count": null,
   "id": "6f15c203",
   "metadata": {},
   "outputs": [],
   "source": []
  }
 ],
 "metadata": {
  "kernelspec": {
   "display_name": "Python 3 (ipykernel)",
   "language": "python",
   "name": "python3"
  },
  "language_info": {
   "codemirror_mode": {
    "name": "ipython",
    "version": 3
   },
   "file_extension": ".py",
   "mimetype": "text/x-python",
   "name": "python",
   "nbconvert_exporter": "python",
   "pygments_lexer": "ipython3",
   "version": "3.9.7"
  }
 },
 "nbformat": 4,
 "nbformat_minor": 5
}
