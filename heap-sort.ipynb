{
 "cells": [
  {
   "cell_type": "markdown",
   "id": "0967d213",
   "metadata": {},
   "source": [
    "# Heap Sort"
   ]
  },
  {
   "cell_type": "markdown",
   "id": "eb3801a5",
   "metadata": {},
   "source": [
    "# What Is Heap Sort ?"
   ]
  },
  {
   "cell_type": "markdown",
   "id": "b7a8de0f",
   "metadata": {},
   "source": [
    "#### Heap sort is a comparison-based sorting technique based on Binary Heap data structure. It is similar to selection sort where we first find the minimum element and place the minimum element at the beginning. We repeat the same process for the remaining elements.[1]"
   ]
  },
  {
   "cell_type": "code",
   "execution_count": null,
   "id": "e69eb454",
   "metadata": {},
   "outputs": [],
   "source": []
  },
  {
   "cell_type": "code",
   "execution_count": 19,
   "id": "45626689",
   "metadata": {},
   "outputs": [],
   "source": [
    "def heapsort(List):\n",
    "    \"\"\"Sorts the list List in-place using Heap Sort.\"\"\"\n",
    "    \n",
    "    # Keep track of the number of comparisons.\n",
    "    comparisons = 0\n",
    "    \n",
    "    # Turn the list into a max heap.\n",
    "    # get the position of the last element.\n",
    "    last_element = len(List) - 1\n",
    "    \n",
    "    # Find the last parent.\n",
    "    last_parent = (last_element - 1) // 2\n",
    "    \n",
    "    # Loop backwards through all parents.\n",
    "    for parent in range(last_parent, -1, -1):\n",
    "        # Sift down.\n",
    "        no_comparisons = comparisons + siftDown(List, parent, last_element)\n",
    "\n",
    "    # Segregate the list L into two parts:\n",
    "    #   1. L[:end] is a max heap\n",
    "    #   2. Each element beyond end is greater than everything before it.\n",
    "    # While there are still elements in the heap.\n",
    "    \n",
    "    for end in range(last_element, 0, -1):\n",
    "        \n",
    "        # Swap the element at index 0 with the element at index end.\n",
    "        List[0], List[end] = List[end], List[0]\n",
    "        \n",
    "        # Fix the heap - the root is currently out of place.\n",
    "        comparisons = comparisons + siftDown(List, 0, end - 1)\n",
    "    \n",
    "    # Return the number of comparisons.\n",
    "    return comparisons"
   ]
  },
  {
   "cell_type": "markdown",
   "id": "1c5d1c3e",
   "metadata": {},
   "source": [
    "## Populate List"
   ]
  },
  {
   "cell_type": "code",
   "execution_count": 22,
   "id": "76001f9f",
   "metadata": {},
   "outputs": [
    {
     "data": {
      "text/plain": [
       "[1, 5, 7, 8, 12, 45, 78, 90, 17, 86]"
      ]
     },
     "execution_count": 22,
     "metadata": {},
     "output_type": "execute_result"
    }
   ],
   "source": [
    "List=[1,5,7,8,12,45,78,90,17,86]\n",
    "List"
   ]
  },
  {
   "cell_type": "markdown",
   "id": "755e1790",
   "metadata": {},
   "source": [
    "## Passing list List into heapsort algrothim "
   ]
  },
  {
   "cell_type": "code",
   "execution_count": 27,
   "id": "dfe3a0d5",
   "metadata": {},
   "outputs": [
    {
     "data": {
      "text/plain": [
       "[1, 5, 7, 8, 12, 17, 45, 78, 86, 90]"
      ]
     },
     "execution_count": 27,
     "metadata": {},
     "output_type": "execute_result"
    }
   ],
   "source": [
    "heapsort(List)\n",
    "List"
   ]
  },
  {
   "cell_type": "code",
   "execution_count": 28,
   "id": "0494d97f",
   "metadata": {},
   "outputs": [
    {
     "data": {
      "text/plain": [
       "[1, 5, 7, 8, 12, 17, 45, 78, 86, 90]"
      ]
     },
     "execution_count": 28,
     "metadata": {},
     "output_type": "execute_result"
    }
   ],
   "source": [
    "List"
   ]
  },
  {
   "cell_type": "code",
   "execution_count": null,
   "id": "7da7ccd0",
   "metadata": {},
   "outputs": [],
   "source": []
  }
 ],
 "metadata": {
  "kernelspec": {
   "display_name": "Python 3 (ipykernel)",
   "language": "python",
   "name": "python3"
  },
  "language_info": {
   "codemirror_mode": {
    "name": "ipython",
    "version": 3
   },
   "file_extension": ".py",
   "mimetype": "text/x-python",
   "name": "python",
   "nbconvert_exporter": "python",
   "pygments_lexer": "ipython3",
   "version": "3.9.7"
  }
 },
 "nbformat": 4,
 "nbformat_minor": 5
}
